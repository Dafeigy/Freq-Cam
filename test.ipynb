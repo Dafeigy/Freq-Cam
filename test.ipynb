{
 "cells": [
  {
   "cell_type": "code",
   "execution_count": 1,
   "metadata": {},
   "outputs": [
    {
     "name": "stdout",
     "output_type": "stream",
     "text": [
      "(481, 624, 1, 2)\n"
     ]
    }
   ],
   "source": [
    "import numpy as np\n",
    "from tool import *\n",
    "data = np.load(r\"process-new\\1\\down\\amp.npy\")\n",
    "print(data.shape)\n",
    "\n",
    "selected_color = ['#6A5ACD','#5F9EA0',\"#3CB371\",\"#FF7F50\"]"
   ]
  },
  {
   "cell_type": "code",
   "execution_count": 2,
   "metadata": {},
   "outputs": [],
   "source": [
    "sample = data[20]\n",
    "x_data = [_ for _ in range(1,625)]\n",
    "y_data = sample.tolist()\n",
    "y_data_1 = [y_data[i][0][0] for i in range(len(x_data))]\n",
    "y_data_2 = [y_data[i][0][1] for i in range(len(x_data))]\n",
    "\n",
    "y_ = {\n",
    "    \"gNB_TX_1\":y_data_1,\n",
    "    \"gNB_TX_2\":y_data_2,\n",
    "}"
   ]
  },
  {
   "cell_type": "code",
   "execution_count": 3,
   "metadata": {},
   "outputs": [],
   "source": [
    "# 低通滤波\n",
    "import scipy.signal as signal\n",
    "N  = 2    # Filter order\n",
    "Wn = 0.1 # Cutoff frequency Ratio\n",
    "B, A = signal.butter(N, Wn, output='ba')\n",
    "\n",
    "\n",
    "temp_1 = np.array(y_data_1)\n",
    "temp_1 = temp_1.astype(float)\n",
    "\n",
    "temp_2 = np.array(y_data_2)\n",
    "temp_2= temp_2.astype(float)\n",
    "# Second, apply the filter\n",
    "temp_f1 = signal.filtfilt(B,A, temp_1)\n",
    "temp_f2 = signal.filtfilt(B,A, temp_2)\n",
    "\n",
    "\n",
    "c = draw_line(x_data, y_,\"Filtered v.s. Origin\")\n"
   ]
  },
  {
   "cell_type": "code",
   "execution_count": 4,
   "metadata": {},
   "outputs": [],
   "source": [
    "temp_list = []\n",
    "for i in range(100):\n",
    "    sample = data[i]\n",
    "    x_data = [_ for _ in range(1,625)]\n",
    "    y_data = sample.tolist()\n",
    "    y_data_1 = [y_data[i][0][0] for i in range(len(x_data))]\n",
    "    y_data_2 = [y_data[i][0][1] for i in range(len(x_data))]\n",
    "    # 得到时刻t的滤波结果temp_f1/2\n",
    "    temp_1 = np.array(y_data_1)\n",
    "    temp_1 = temp_1.astype(float)\n",
    "\n",
    "    temp_2 = np.array(y_data_2)\n",
    "    temp_2= temp_2.astype(float)\n",
    "    # Second, apply the filter\n",
    "    temp_f1 = signal.filtfilt(B,A, temp_1)\n",
    "    temp_f2 = signal.filtfilt(B,A, temp_2)\n",
    "\n",
    "    # 叠加\n",
    "    temp = np.dstack((temp_f1,temp_f2))\n",
    "    temp_list.append(temp)\n",
    "\n",
    "result = np.array(temp_list)\n"
   ]
  },
  {
   "cell_type": "code",
   "execution_count": 5,
   "metadata": {},
   "outputs": [],
   "source": [
    "#特征矩阵。\n",
    "n_window = 25\n",
    "slice_index_start = 0\n",
    "feature_variance_data = result[slice_index_start:slice_index_start+n_window]\n",
    "feature_variance_data = feature_variance_data.var(axis=0).tolist()[0]\n",
    "var_data_1 = [each[0] for each in feature_variance_data]\n",
    "var_data_2 = [each[1] for each in feature_variance_data]\n",
    "\n",
    "slice_index_start = 25\n",
    "feature_variance_data = result[slice_index_start:slice_index_start+n_window]\n",
    "feature_variance_data = feature_variance_data.var(axis=0).tolist()[0]\n",
    "var_data_3 = [each[0] for each in feature_variance_data]\n",
    "var_data_4 = [each[1] for each in feature_variance_data]"
   ]
  },
  {
   "cell_type": "code",
   "execution_count": null,
   "metadata": {},
   "outputs": [],
   "source": []
  },
  {
   "cell_type": "code",
   "execution_count": 6,
   "metadata": {},
   "outputs": [],
   "source": [
    "var_data = {\n",
    "    \"var_action_1\":var_data_1,\n",
    "    \"var_action_2\" : var_data_2,\n",
    "    \"var_idle_1\":var_data_3,\n",
    "    \"var_idle_2\":var_data_4\n",
    "}"
   ]
  },
  {
   "cell_type": "code",
   "execution_count": 7,
   "metadata": {},
   "outputs": [],
   "source": [
    "c = draw_line(x_data, var_data,\"Var Feature Matrix\")"
   ]
  }
 ],
 "metadata": {
  "kernelspec": {
   "display_name": "Python 3",
   "language": "python",
   "name": "python3"
  },
  "language_info": {
   "codemirror_mode": {
    "name": "ipython",
    "version": 3
   },
   "file_extension": ".py",
   "mimetype": "text/x-python",
   "name": "python",
   "nbconvert_exporter": "python",
   "pygments_lexer": "ipython3",
   "version": "3.9.13"
  },
  "orig_nbformat": 4
 },
 "nbformat": 4,
 "nbformat_minor": 2
}
