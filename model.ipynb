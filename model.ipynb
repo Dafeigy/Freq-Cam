{
 "cells": [
  {
   "cell_type": "code",
   "execution_count": 29,
   "metadata": {},
   "outputs": [
    {
     "name": "stdout",
     "output_type": "stream",
     "text": [
      "[ MODEL ] MODEL LOADED.\n",
      "None\n"
     ]
    }
   ],
   "source": [
    "import torch\n",
    "from model_utils import set_args\n",
    "import Timesnet_DANN\n",
    "\n",
    "device = torch.device('cuda:0')\n",
    "eval_mask = torch.ones(1,624).to(device)\n",
    "st = torch.load('best.pth')\n",
    "new_st = {key.replace(\"module.\", \"\"): value for key, value in st.items()}\n",
    "opt=set_args()\n",
    "model = Timesnet_DANN.Model_domain(opt)\n",
    "model.load_state_dict(new_st)\n",
    "print(\"[ MODEL ] MODEL LOADED.\")\n",
    "model = model.to(device)\n",
    "model.eval()\n",
    "print(model.projection.weight.grad)"
   ]
  },
  {
   "cell_type": "code",
   "execution_count": 30,
   "metadata": {},
   "outputs": [],
   "source": [
    "rand_input =  torch.randn(1, 624, 1, 2).squeeze(0).permute(1,0,2).to(device)\n",
    "eval_mask = torch.ones(1,624).to(device)"
   ]
  },
  {
   "cell_type": "code",
   "execution_count": 31,
   "metadata": {},
   "outputs": [],
   "source": [
    "action_list = ['idle','punch','kick','left','right','down']"
   ]
  },
  {
   "cell_type": "code",
   "execution_count": 32,
   "metadata": {},
   "outputs": [],
   "source": [
    "digits = model(rand_input,eval_mask)\n",
    "output = torch.argmax(digits[0],dim=1)"
   ]
  },
  {
   "cell_type": "code",
   "execution_count": 33,
   "metadata": {},
   "outputs": [],
   "source": [
    "class ActivationsAndGradients:\n",
    "    \"\"\" Class for extracting activations and\n",
    "    registering gradients from targetted intermediate layers \"\"\"\n",
    "\n",
    "    def __init__(self, model, target_layer):\n",
    "        self.model = model\n",
    "        self.gradients = []\n",
    "        self.activations = []\n",
    "\n",
    "        target_layer.register_forward_hook(self.save_activation)\n",
    "        target_layer.register_full_backward_hook(self.save_gradient)\n",
    "\n",
    "    def save_activation(self, module, input, output):\n",
    "        self.activations.append(output)\n",
    "\n",
    "    def save_gradient(self, module, grad_input, grad_output):\n",
    "        # Gradients are computed in reverse order\n",
    "        self.gradients = [grad_output[0]] + self.gradients\n",
    "\n",
    "    def __call__(self, x):\n",
    "        self.gradients = []\n",
    "        self.activations = []\n",
    "        return self.model(x)"
   ]
  },
  {
   "cell_type": "code",
   "execution_count": 34,
   "metadata": {},
   "outputs": [
    {
     "data": {
      "text/plain": [
       "(tensor([[ -5.6495, -23.8264,  -0.2086,   5.5490, -11.7501,  -1.4646]],\n",
       "        device='cuda:0', grad_fn=<AddmmBackward0>),\n",
       " tensor([[0., 0.]], device='cuda:0', grad_fn=<ReluBackward0>))"
      ]
     },
     "execution_count": 34,
     "metadata": {},
     "output_type": "execute_result"
    }
   ],
   "source": [
    "digits"
   ]
  },
  {
   "cell_type": "code",
   "execution_count": 35,
   "metadata": {},
   "outputs": [],
   "source": [
    "loss = digits[0][0][5]\n",
    "loss.backward(retain_graph=True)"
   ]
  },
  {
   "cell_type": "code",
   "execution_count": 41,
   "metadata": {},
   "outputs": [
    {
     "name": "stdout",
     "output_type": "stream",
     "text": [
      "None\n"
     ]
    }
   ],
   "source": [
    "print(model.domain_classifier.d_fc1.weight.grad)"
   ]
  },
  {
   "cell_type": "code",
   "execution_count": 42,
   "metadata": {},
   "outputs": [
    {
     "data": {
      "text/plain": [
       "(tensor([[ -5.6495, -23.8264,  -0.2086,   5.5490, -11.7501,  -1.4646]],\n",
       "        device='cuda:0', grad_fn=<AddmmBackward0>),\n",
       " tensor([[0., 0.]], device='cuda:0', grad_fn=<ReluBackward0>))"
      ]
     },
     "execution_count": 42,
     "metadata": {},
     "output_type": "execute_result"
    }
   ],
   "source": [
    "digits"
   ]
  },
  {
   "cell_type": "code",
   "execution_count": null,
   "metadata": {},
   "outputs": [],
   "source": []
  }
 ],
 "metadata": {
  "kernelspec": {
   "display_name": "Python 3",
   "language": "python",
   "name": "python3"
  },
  "language_info": {
   "codemirror_mode": {
    "name": "ipython",
    "version": 3
   },
   "file_extension": ".py",
   "mimetype": "text/x-python",
   "name": "python",
   "nbconvert_exporter": "python",
   "pygments_lexer": "ipython3",
   "version": "3.9.13"
  },
  "orig_nbformat": 4
 },
 "nbformat": 4,
 "nbformat_minor": 2
}
