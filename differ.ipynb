{
 "cells": [
  {
   "cell_type": "code",
   "execution_count": 61,
   "metadata": {},
   "outputs": [],
   "source": [
    "import numpy as np\n",
    "data_file = r\"process-new\\4\\kick\\amp.npy\""
   ]
  },
  {
   "cell_type": "code",
   "execution_count": 62,
   "metadata": {},
   "outputs": [
    {
     "name": "stdout",
     "output_type": "stream",
     "text": [
      "数据长度：481\n"
     ]
    }
   ],
   "source": [
    "data = np.load(data_file)\n",
    "data_length = len(data)\n",
    "print(f\"数据长度：{len(data)}\")"
   ]
  },
  {
   "cell_type": "code",
   "execution_count": 63,
   "metadata": {},
   "outputs": [],
   "source": [
    "ds_data = np.diff(data,axis=0)"
   ]
  },
  {
   "cell_type": "code",
   "execution_count": 64,
   "metadata": {},
   "outputs": [],
   "source": [
    "ds_array_1_list = []\n",
    "ds_array_2_list = []\n",
    "for t in range(len(ds_data)):\n",
    "    # t 是时间索引序号 理论上每25个sample是两秒\n",
    "    # 即应该每隔25个sample会有一个比较大的波动\n",
    "    y_data =  ds_data[t].tolist()\n",
    "    y_data_1 = [y_data[i][0][0] for i in range(624)]\n",
    "    y_data_2 = [y_data[i][0][1] for i in range(624)]\n",
    "    ds_array_1_list.append(y_data_1)\n",
    "    ds_array_2_list.append(y_data_2)\n",
    "\n",
    "ds_array_1 = np.transpose(np.array(ds_array_1_list))\n",
    "ds_array_2 = np.transpose(np.array(ds_array_2_list))"
   ]
  },
  {
   "cell_type": "code",
   "execution_count": 65,
   "metadata": {},
   "outputs": [
    {
     "name": "stdout",
     "output_type": "stream",
     "text": [
      "480\n"
     ]
    }
   ],
   "source": [
    "print(ds_array_1.shape[1])"
   ]
  },
  {
   "cell_type": "code",
   "execution_count": 66,
   "metadata": {},
   "outputs": [],
   "source": [
    "from pyecharts import options as opts\n",
    "from pyecharts.charts import HeatMap\n",
    "\n",
    "value = [[i, j, ds_array_1[j][i]] for i in range(ds_array_1.shape[1]) for j in range(ds_array_1.shape[0])]"
   ]
  },
  {
   "cell_type": "code",
   "execution_count": 67,
   "metadata": {},
   "outputs": [],
   "source": [
    "c = (\n",
    "    HeatMap(init_opts=opts.InitOpts(width=\"1920px\",height=\"1080px\"))\n",
    "    .add_xaxis([i for i in range(1,ds_array_1.shape[1]+1)])\n",
    "    .add_yaxis(\n",
    "        \"diff\", [z for z in range(1,ds_array_1.shape[0]+1)], value, label_opts=opts.LabelOpts(position=\"middle\")\n",
    "    )\n",
    "    .set_global_opts(\n",
    "        title_opts=opts.TitleOpts(title=\"HeatMap-基本示例\"),\n",
    "        visualmap_opts=opts.VisualMapOpts(),\n",
    "    )\n",
    "    .render(\"heatmap_base.html\")\n",
    ")"
   ]
  }
 ],
 "metadata": {
  "kernelspec": {
   "display_name": "Python 3",
   "language": "python",
   "name": "python3"
  },
  "language_info": {
   "codemirror_mode": {
    "name": "ipython",
    "version": 3
   },
   "file_extension": ".py",
   "mimetype": "text/x-python",
   "name": "python",
   "nbconvert_exporter": "python",
   "pygments_lexer": "ipython3",
   "version": "3.9.13"
  },
  "orig_nbformat": 4
 },
 "nbformat": 4,
 "nbformat_minor": 2
}
